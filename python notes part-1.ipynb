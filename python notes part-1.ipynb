{
 "cells": [
  {
   "cell_type": "markdown",
   "id": "f7a1d188",
   "metadata": {},
   "source": [
    "# what is python?"
   ]
  },
  {
   "cell_type": "code",
   "execution_count": 2,
   "id": "839ff9d7",
   "metadata": {},
   "outputs": [],
   "source": [
    "# python is a computer programming language often used to build websites,softwares,helps in tasks and analyze data.\n",
    "# python extention is\".py\"\n",
    "# devoloped by guido van rossum in 1991."
   ]
  },
  {
   "cell_type": "markdown",
   "id": "9e00ab25",
   "metadata": {},
   "source": [
    "# what is library?what are the libraries used in python?"
   ]
  },
  {
   "cell_type": "code",
   "execution_count": 3,
   "id": "7165412d",
   "metadata": {},
   "outputs": [],
   "source": [
    "# pre-defines set of codes written by someone,that can be reffered in future are called libraries\n",
    "# NUMPY AND PANDAS are some libraries commonly used in python"
   ]
  },
  {
   "cell_type": "markdown",
   "id": "0272c41f",
   "metadata": {},
   "source": [
    "# using software/what website is used for coding?"
   ]
  },
  {
   "cell_type": "code",
   "execution_count": 4,
   "id": "1753fd92",
   "metadata": {},
   "outputs": [],
   "source": [
    "# Anaconda is used for executing the code,it provides\n",
    "# python programming(code)\n",
    "# integrated devolopment envinornment(IDE) : its a program dedicated to software devolopment.(an editor designed to handle code)\n",
    "# example=syntax highlighting,auto-completion(visual studio,pycharm,jupyter notebook etc....)"
   ]
  },
  {
   "cell_type": "code",
   "execution_count": 1,
   "id": "1b78631e-814e-4652-a9b8-d1742223024e",
   "metadata": {},
   "outputs": [],
   "source": [
    " # I use jupyter notebook(IDE) software which is used to execute the code."
   ]
  },
  {
   "cell_type": "markdown",
   "id": "94a93088",
   "metadata": {},
   "source": [
    "# what is a notebook?"
   ]
  },
  {
   "cell_type": "code",
   "execution_count": 5,
   "id": "2b6f781e",
   "metadata": {},
   "outputs": [],
   "source": [
    "# set of instructions which can be reffered in future"
   ]
  },
  {
   "cell_type": "markdown",
   "id": "18d21e0e",
   "metadata": {},
   "source": [
    "# How to set up jupyter notebook?"
   ]
  },
  {
   "cell_type": "code",
   "execution_count": 6,
   "id": "69cf1022",
   "metadata": {},
   "outputs": [],
   "source": [
    "# jupter notebook from default browser---->install and launch---->local host/tree--->folders(c-drive)---->left click---->new--->new notebook.\n",
    "# user---->lenovo or default name(kurma dinesh)\n",
    "# put all the documents in one file or folder from python notes\n",
    "# kernal is heart of operating system\n",
    "# store the files as '.ipynb' files"
   ]
  },
  {
   "cell_type": "code",
   "execution_count": 7,
   "id": "b57f62a3",
   "metadata": {},
   "outputs": [],
   "source": [
    "# what is a cell in python jupyter notebook?\n",
    "# a cell can be filled with \n",
    "# code = the set of rules for python to be written (default)\n",
    "# markdown = used for headings,subheadings and titles( '#' should be included in the start) \n",
    "# raw NB convert = content that should be included unmodified in nbcovert output."
   ]
  },
  {
   "cell_type": "markdown",
   "id": "4feafbe3",
   "metadata": {},
   "source": [
    "# heading\n",
    "# sub-heading\n",
    "# topic\n",
    "# usually decreases size comming towards bottom\n",
    "# shift + enter (short cut to run the code)."
   ]
  },
  {
   "cell_type": "markdown",
   "id": "81974019",
   "metadata": {},
   "source": [
    "# What is jupyter notebook facility"
   ]
  },
  {
   "cell_type": "code",
   "execution_count": 8,
   "id": "53b7da1c",
   "metadata": {},
   "outputs": [],
   "source": [
    "# it saves error with the code\n",
    "# giving commnd Help(___),gives all information about it\n",
    "# it prints without \"print\" function"
   ]
  },
  {
   "cell_type": "markdown",
   "id": "2273e955",
   "metadata": {},
   "source": [
    "# how to delete a cell"
   ]
  },
  {
   "cell_type": "code",
   "execution_count": 9,
   "id": "0dad0e4d",
   "metadata": {},
   "outputs": [],
   "source": [
    "# select cell--->edit--->delete"
   ]
  },
  {
   "cell_type": "markdown",
   "id": "ad2dcc0f",
   "metadata": {},
   "source": [
    "# what is OS?"
   ]
  },
  {
   "cell_type": "code",
   "execution_count": 11,
   "id": "9a97fa8f",
   "metadata": {},
   "outputs": [],
   "source": [
    "# it is a system manages the hardware resources(memory,CPU,keyboard,etc...)\n",
    "# helps to,run the application by providing recources to it\n",
    "# interface to interact with the applications\n",
    "# ex-:windows,MAC-os,Linux,Android"
   ]
  },
  {
   "cell_type": "code",
   "execution_count": 12,
   "id": "b10706ce-95de-447d-a73e-1c4f98d9a8af",
   "metadata": {},
   "outputs": [],
   "source": [
    "# my operating system is windows"
   ]
  },
  {
   "cell_type": "markdown",
   "id": "77062841",
   "metadata": {},
   "source": [
    "# what is programming language?"
   ]
  },
  {
   "cell_type": "code",
   "execution_count": 13,
   "id": "2a0128cf",
   "metadata": {},
   "outputs": [],
   "source": [
    "# it is a language which humans communicate with machines"
   ]
  },
  {
   "cell_type": "markdown",
   "id": "a9907ebf",
   "metadata": {},
   "source": [
    "# what is syntax"
   ]
  },
  {
   "cell_type": "code",
   "execution_count": 14,
   "id": "25006bc5",
   "metadata": {},
   "outputs": [],
   "source": [
    "# the set of rules for coding"
   ]
  },
  {
   "cell_type": "markdown",
   "id": "b52ee2ab",
   "metadata": {},
   "source": [
    "# what are keywords"
   ]
  },
  {
   "cell_type": "code",
   "execution_count": 15,
   "id": "8355bcb5",
   "metadata": {},
   "outputs": [],
   "source": [
    "# pre-defined reserved words which have special meaning (for,if,else etc...)"
   ]
  },
  {
   "cell_type": "markdown",
   "id": "eb42b8c7",
   "metadata": {},
   "source": [
    "# types of programming language"
   ]
  },
  {
   "cell_type": "code",
   "execution_count": 16,
   "id": "ae679b3d",
   "metadata": {},
   "outputs": [],
   "source": [
    "# 1.High Level Language                                             2.Low Level Language\n",
    "# close to humans communicate                                         close to machine\n",
    "# easier compared to low level language                               difficult to understand\n",
    "# takes more time to translate to machine understandable code         converts into machine understandable code faster\n",
    "# example:Python,java,c++                                  example:Assembly,microprocessor,microcontrol chips used in sensors and light bulbs"
   ]
  },
  {
   "cell_type": "markdown",
   "id": "eea62da9",
   "metadata": {},
   "source": [
    "# what are python features"
   ]
  },
  {
   "cell_type": "code",
   "execution_count": 17,
   "id": "91017bc5",
   "metadata": {},
   "outputs": [],
   "source": [
    "# 1.high level programming language(because humans can easily understand the code)\n",
    "# 2.open source & free(free to download and any one can use it)\n",
    "# 3.lots of libraries(lots of data can be refferd for future reference)\n",
    "# 4.easy to understand(compared to other languages,syntax is very easy)\n",
    "# 5.Interpreted language(execute the code line by line)\n",
    "# 6.Dynamically typed(specifiying int or string datatype is not necessary)\n",
    "# 7.community support(any dought you can refer in browser )\n",
    "# 8.platform independent(runs in OS like windows,MACos,linux etc...)\n",
    "# 9.multi-purpose language(used in gaming ,data science,web devolopment etc...)\n",
    "# 10.case-sensitive(where you use capital letter and where you use small letter should be strictly followed)"
   ]
  },
  {
   "cell_type": "code",
   "execution_count": 18,
   "id": "3cd57d77",
   "metadata": {},
   "outputs": [],
   "source": [
    "# note-:\n",
    "# Integers are whole numbers when a character is written use \"jhon\"-->use double quotes\"\"\n",
    "# Float denoted in decimals 53.5 is a float\n",
    "# The variable name can be defined and changed"
   ]
  },
  {
   "cell_type": "markdown",
   "id": "b70f54f2",
   "metadata": {},
   "source": [
    "# what is translator and source code"
   ]
  },
  {
   "cell_type": "code",
   "execution_count": 19,
   "id": "e880eb7b",
   "metadata": {},
   "outputs": [],
   "source": [
    "# translator:it is a device converts source code into machine code.\n",
    "# source code:the code/program we write in OS,by using variables and keywords"
   ]
  },
  {
   "cell_type": "markdown",
   "id": "881ba66e",
   "metadata": {},
   "source": [
    "# difference between compiler and translator"
   ]
  },
  {
   "cell_type": "code",
   "execution_count": 20,
   "id": "b532ad4b",
   "metadata": {},
   "outputs": [],
   "source": [
    "# compiler:\n",
    "#     translates entire source code at once faster\n",
    "#     faster than interpreter\n",
    "# Interpretar:\n",
    "#     translates the source code line by line\n",
    "#     slower than compiler"
   ]
  },
  {
   "cell_type": "markdown",
   "id": "663b0df5",
   "metadata": {},
   "source": [
    "# internal working of python"
   ]
  },
  {
   "cell_type": "code",
   "execution_count": 21,
   "id": "d9575df0",
   "metadata": {},
   "outputs": [],
   "source": [
    "# the standard implementation of python is 'C'-python(written in \"C\")\n",
    "# source code(.py)--->compiler--->byte code(.pyc)--->interpreter--->machine code--->executed--->output\n",
    "# python is a interpreted language\n",
    "# PVM-Python Virtual Machine\n",
    "# (.pyc)-compiled version of source code"
   ]
  },
  {
   "cell_type": "markdown",
   "id": "8e622316",
   "metadata": {},
   "source": [
    "# process of python code"
   ]
  },
  {
   "cell_type": "code",
   "execution_count": 22,
   "id": "f2033b43",
   "metadata": {},
   "outputs": [],
   "source": [
    "# step1:During compilation,syntax and indentation are checked.\n",
    "# step2:during interpretation stage,code execution happens.\n",
    "# step3:data type of the values are checked during interpretation stage.\n",
    "# step4:the memory managment is also done here in interpreter stage.\n",
    "# step5:if memory managment and data type checking occur at interpretation stage,then it is interpreted language.\n",
    "# step6:in python,the data type checking and memory management occur at interpreter side,hence \"python is a interpreted language\"."
   ]
  },
  {
   "cell_type": "markdown",
   "id": "aaf478a6",
   "metadata": {},
   "source": [
    "# errors in python"
   ]
  },
  {
   "cell_type": "code",
   "execution_count": 23,
   "id": "79dd7916",
   "metadata": {},
   "outputs": [],
   "source": [
    "# 1.Compile Time error:\n",
    "#     it happens while the source code has wrong syntax or indentation(when you did not follow the rules and not given spaces correctly)\n",
    "#     while compile time error happens,byte code will not be generated\n",
    "# example:-syntax or indentation error\n",
    "# 2.Run Time error:\n",
    "#     it happens while the code is running/executing after sucessesful comiling the source code.\n",
    "#     any error at this stage terminates the execution of program(it happens incases like half program execution happens and half dosen't)\n",
    "# example:-spelled mistake,%divided by 0,not defined."
   ]
  },
  {
   "cell_type": "code",
   "execution_count": 4,
   "id": "41b11239-c4f4-4c85-ab4c-e66050590912",
   "metadata": {},
   "outputs": [
    {
     "data": {
      "text/plain": [
       "'-------'"
      ]
     },
     "execution_count": 4,
     "metadata": {},
     "output_type": "execute_result"
    }
   ],
   "source": [
    "(\"-------\")"
   ]
  },
  {
   "cell_type": "markdown",
   "id": "946e2fc8-344a-4bd4-8d2a-2921088cb1c1",
   "metadata": {},
   "source": [
    "# memory managment in python"
   ]
  },
  {
   "cell_type": "code",
   "execution_count": null,
   "id": "d7fa4c21-1ada-433b-a1e9-27b9dae669a5",
   "metadata": {},
   "outputs": [],
   "source": [
    "# memory managment in python \n",
    "# 1.managing the memory allocation and de-allocation in the memory\n",
    "# 2.in-efficient memory managment leads to slowness.\n",
    "# 3.memory managment is done automatically (python memory manager)\n",
    "# 4.python memory manager(PMM) is part of PVM which is responsible for managing memory in python."
   ]
  },
  {
   "cell_type": "markdown",
   "id": "eb7b8d0b-dff4-46df-8193-4ea77c5889d4",
   "metadata": {},
   "source": [
    "# MEMORY ALLOCATION"
   ]
  },
  {
   "cell_type": "code",
   "execution_count": null,
   "id": "1fe5742a-eb18-4664-bb16-40b06e9221cc",
   "metadata": {},
   "outputs": [],
   "source": [
    "# 1.static memory allocation                       2.dynamic memory allocation\n",
    "# -->occurs during compile time                     -->occurs during run-time\n",
    "# -->stack is used for static memory allocation.    -->Heap is used for dynamic memory allocation.\n",
    "# -->memory cannot be re-used                       -->memory can be re-used\n",
    "# EXPLAINATION:-\n",
    "# in python dynamic memory allocation happens in python PMM.\n",
    "# PMM allocates the memory to data/value and when the data is not required \n",
    "# PMM detects the value from memory and re-claims the memory to that it can be re-used."
   ]
  },
  {
   "cell_type": "code",
   "execution_count": null,
   "id": "9750d977-3176-4456-827e-b0f2f2e93d71",
   "metadata": {},
   "outputs": [],
   "source": [
    "# what is stack?-memory allocation happens in continously memory location/address.\n",
    "# what is Heap?-memory allocation happens in random memory location/file of the memory."
   ]
  },
  {
   "cell_type": "code",
   "execution_count": null,
   "id": "0f317dce-d58b-4bf9-8761-004bc0e7a8ec",
   "metadata": {},
   "outputs": [],
   "source": [
    "# what is object specific allocator(OSA)-it allocates the memory to the objects (values/data)\n",
    "# what is raw memory allocator(RMA)-interact with OS,to ensure that there is enough memory in the Heap.\n",
    "# EXPLAINATION:- memory address are reffered by hexa-decimals gives back address to free area garbage collector(GC)"
   ]
  },
  {
   "cell_type": "markdown",
   "id": "c2b6a4c6-f6a7-48c6-beaa-2d213908bdd3",
   "metadata": {},
   "source": [
    "# coding area (coding on book)\n",
    "# variable area (a,b,numbers,etc...)\n",
    "# heap area (10,20,30 etc...)\n",
    "# free area (sends the memory address or take the address)\n",
    "# stack area (process the order one to another)"
   ]
  },
  {
   "cell_type": "code",
   "execution_count": 6,
   "id": "a9b99f83-43ca-4d5d-99ac-ee12b288d16d",
   "metadata": {},
   "outputs": [
    {
     "data": {
      "text/plain": [
       "'----'"
      ]
     },
     "execution_count": 6,
     "metadata": {},
     "output_type": "execute_result"
    }
   ],
   "source": [
    "(\"----\")"
   ]
  },
  {
   "cell_type": "markdown",
   "id": "a1eb5220-6314-41ce-a271-299747200d8b",
   "metadata": {},
   "source": [
    "# MEMORY DE-ALLOCATION"
   ]
  },
  {
   "cell_type": "code",
   "execution_count": 7,
   "id": "265ed759-6845-42c1-89c8-a4a7d1c44c02",
   "metadata": {},
   "outputs": [
    {
     "name": "stdout",
     "output_type": "stream",
     "text": [
      "2646078060720\n",
      "2646078060720\n"
     ]
    }
   ],
   "source": [
    "# what is reference counting?\n",
    "# it counts no.of times the object/value has been reffered.\n",
    "# how many variables are reffering to a memory address.\n",
    "# example:-\n",
    "a=1000\n",
    "b=1000\n",
    "c=1000\n",
    "d=a # d assigned for a \n",
    "print(id(a)) \n",
    "print(id(d))\n",
    "# both reffer same memory address"
   ]
  },
  {
   "cell_type": "markdown",
   "id": "d4571975-c4d9-466a-a8f7-ba7ea0535d74",
   "metadata": {},
   "source": [
    "# GARBAGE COLLECTOR"
   ]
  },
  {
   "cell_type": "code",
   "execution_count": null,
   "id": "a454946b-2abb-428f-b565-fd7510433956",
   "metadata": {},
   "outputs": [],
   "source": [
    "# garbage collector collects all the values ,when the value of a variable is \"zero\"\n",
    "# the garbage collector eliminates and gives the free space for other variable\n",
    "# example:-ID()[FUNCTION TO GET MEMORY ADDRESS OF THE VARIABLE]\n",
    "# garbage collector sees the reference count is '0' and it detects and deletes the value from the memory-address and re-claims the memory for \n",
    "# storing something else.\n",
    "# garbage collector is automatic process and it will be running in the background"
   ]
  },
  {
   "cell_type": "markdown",
   "id": "550e9a65-52de-4a4c-ab10-649d9f5454f0",
   "metadata": {},
   "source": [
    "# (-5 to +256) memory address will be same when when these values are taken. this process is called INTERNING"
   ]
  },
  {
   "cell_type": "code",
   "execution_count": 24,
   "id": "df27628b",
   "metadata": {},
   "outputs": [],
   "source": [
    "# Literals:-\n",
    "#     *literals are the data types,that can hold a value type\n",
    "# example:-'jhon',age=20"
   ]
  },
  {
   "cell_type": "markdown",
   "id": "1101244b",
   "metadata": {},
   "source": [
    "# TYPES OF LITERALS\n",
    "# 1.NUMERICAL LITERAL\n",
    "# integer that are whole numbers -ve and +ve (0-9) [base 10]\n",
    "# binary form base (2.0 or 1) or (0b1011)\n",
    "# octal base 8 (0-7)\n",
    "# hexa decimal base 16 (0-9),(A-F)"
   ]
  },
  {
   "cell_type": "code",
   "execution_count": 25,
   "id": "f91073de",
   "metadata": {},
   "outputs": [
    {
     "name": "stdout",
     "output_type": "stream",
     "text": [
      "11\n",
      "-----\n",
      "0b1011\n",
      "----\n",
      "<class 'int'>\n"
     ]
    }
   ],
   "source": [
    "# binary bin form base (10) 0b1=1,0b10=2,0b11=3,0b100=4,0b101=5,0b110=6,0b111=7,0b1000=8,0b1001=9,0b1010=10\n",
    "num = 0b1011\n",
    "print(num)\n",
    "print(\"-----\")\n",
    "print(bin(11))\n",
    "print(\"----\")\n",
    "print(type(num))"
   ]
  },
  {
   "cell_type": "code",
   "execution_count": 26,
   "id": "5d1f85af",
   "metadata": {},
   "outputs": [
    {
     "name": "stdout",
     "output_type": "stream",
     "text": [
      "10\n",
      "----\n",
      "0o12\n",
      "----\n",
      "<class 'int'>\n"
     ]
    }
   ],
   "source": [
    "# octal form base 8,0o1=1,0o2=2,0o3=3,0o4=4,0o5=5,0o6=6,0o7=7,\"0o10=8\",0o11=9......0o20=16(always skip 8 and 9)\n",
    "num1 = 0o12\n",
    "print(num1)\n",
    "print(\"----\")\n",
    "print(oct(10))\n",
    "print(\"----\")\n",
    "print(type(num1))"
   ]
  },
  {
   "cell_type": "code",
   "execution_count": 27,
   "id": "54c0e245",
   "metadata": {},
   "outputs": [
    {
     "name": "stdout",
     "output_type": "stream",
     "text": [
      "62\n",
      "----\n",
      "0x3e\n",
      "----\n",
      "<class 'int'>\n"
     ]
    }
   ],
   "source": [
    "# hexa form base 16,0x1=1,0x2=2...0x9=9,0xa=10,0xb=11,0xc=12,0xd=13,0xe=14,0xf=15,0x10=16....0x1a=26\n",
    "num2 = 0x3E\n",
    "print(num2)\n",
    "print(\"----\")\n",
    "print(hex(62))\n",
    "print(\"----\")\n",
    "print(type(num2))"
   ]
  },
  {
   "cell_type": "markdown",
   "id": "e67329b0",
   "metadata": {},
   "source": [
    "# Float form\n",
    "# the output measured using decimals \n",
    "# complex form\n",
    "# the number contains both real and imaginary part"
   ]
  },
  {
   "cell_type": "code",
   "execution_count": 28,
   "id": "7727ff1e",
   "metadata": {},
   "outputs": [
    {
     "name": "stdout",
     "output_type": "stream",
     "text": [
      "100.5\n",
      "<class 'float'>\n"
     ]
    }
   ],
   "source": [
    "# float\n",
    "num3 = 100.5\n",
    "print(num3)\n",
    "print(type(num3))"
   ]
  },
  {
   "cell_type": "code",
   "execution_count": 29,
   "id": "5a88c87c",
   "metadata": {},
   "outputs": [
    {
     "name": "stdout",
     "output_type": "stream",
     "text": [
      "(3+2j)\n",
      "<class 'complex'>\n"
     ]
    }
   ],
   "source": [
    "# complex\n",
    "num4 = 3+2j\n",
    "print(num4)\n",
    "print(type(num4))"
   ]
  },
  {
   "cell_type": "code",
   "execution_count": 28,
   "id": "d8873c0d",
   "metadata": {},
   "outputs": [
    {
     "name": "stdout",
     "output_type": "stream",
     "text": [
      "hello \n",
      "world\n",
      "old \n",
      "new\n"
     ]
    }
   ],
   "source": [
    "# \\n--->new line character\n",
    "s1 = \"hello \\nworld\"\n",
    "print(s1)\n",
    "s2 = \"old \\nnew\" #we shold provide extra 'n' to the the line for not erasing the'n' in the sentence.\n",
    "print(s2)\n",
    "# \\--->this line is called \"escape sequence\""
   ]
  },
  {
   "cell_type": "code",
   "execution_count": 31,
   "id": "5a47595f",
   "metadata": {},
   "outputs": [
    {
     "name": "stdout",
     "output_type": "stream",
     "text": [
      "True\n",
      "<class 'bool'>\n"
     ]
    }
   ],
   "source": [
    "# boolean literal\n",
    "# used for yes/no questions in python\n",
    "b1 = True\n",
    "print(b1)\n",
    "print(type(b1))"
   ]
  },
  {
   "cell_type": "code",
   "execution_count": 32,
   "id": "1e8e6398",
   "metadata": {},
   "outputs": [
    {
     "name": "stdout",
     "output_type": "stream",
     "text": [
      "None\n"
     ]
    }
   ],
   "source": [
    "# special literal\n",
    "# a literal which prints none value \n",
    "# example:\n",
    "value = None\n",
    "print(value)"
   ]
  },
  {
   "cell_type": "markdown",
   "id": "b09dd11d",
   "metadata": {},
   "source": [
    "# identifier\n",
    "# name given to a variable,function,class\n",
    "# example: name = 'jhon'\n",
    "# name--->identifier\n",
    "# jhon-->string literal operator"
   ]
  },
  {
   "cell_type": "code",
   "execution_count": 29,
   "id": "57db0987-817a-4e9d-9a8b-191f44a86909",
   "metadata": {},
   "outputs": [
    {
     "data": {
      "text/plain": [
       "'----'"
      ]
     },
     "execution_count": 29,
     "metadata": {},
     "output_type": "execute_result"
    }
   ],
   "source": [
    "(\"----\")"
   ]
  },
  {
   "cell_type": "markdown",
   "id": "ec69972b-1257-4d12-8837-36547de97fdc",
   "metadata": {},
   "source": [
    "# Rules for creating identifier"
   ]
  },
  {
   "cell_type": "code",
   "execution_count": 33,
   "id": "bd60941e",
   "metadata": {},
   "outputs": [],
   "source": [
    "# 1.(a-z),(A-Z),(0-9)-->are allowed in identifier\n",
    "# 2.No special character allowed cannot start with digits (0-9)\n",
    "# 3.cannot use keywords as identifiers.\n",
    "# 4.case sensitive\n",
    "# 5.it is highly recommended not to use function name as identifier"
   ]
  },
  {
   "cell_type": "code",
   "execution_count": 34,
   "id": "e6cff1fe",
   "metadata": {},
   "outputs": [],
   "source": [
    "#  Variables\n",
    "# 1. name given to an entity which is used to store a value,can be changed\n",
    "# 2. variables have same rules for identifiers"
   ]
  },
  {
   "cell_type": "markdown",
   "id": "053e23b6-d70a-4a07-83bf-efec4694efe2",
   "metadata": {},
   "source": [
    "# rules for creating constants"
   ]
  },
  {
   "cell_type": "code",
   "execution_count": 35,
   "id": "3ff60ff6",
   "metadata": {},
   "outputs": [],
   "source": [
    "# 1.fixed value,which does not change,we use upper case to define constants\n",
    "# example:-gravity=9.81,PI=3.14\n",
    "# 2.in python,the value assosiated with a constant can be changed,there is no constant in python\n",
    "# 3.defining a variable using upper case is covection/stand that is followed in python to define constants in python for the\n",
    "# values that we don't want to change"
   ]
  },
  {
   "cell_type": "code",
   "execution_count": 36,
   "id": "9002dd5d",
   "metadata": {},
   "outputs": [],
   "source": [
    "# Comments\n",
    "# 1.notes/description about of the code that we write in the program\n",
    "# 2.it's good practice to write comments in a program\n",
    "# 3.'#' is used to write single line comment\n",
    "# '''''' triple quotes used for multiple line comments\n",
    "# ctrl+? shortcut to add '#' symbol to all the lines in the cell."
   ]
  },
  {
   "cell_type": "markdown",
   "id": "fb182bf5",
   "metadata": {},
   "source": [
    "# keywords(35-keywords present in python)"
   ]
  },
  {
   "cell_type": "code",
   "execution_count": 38,
   "id": "85f63b04",
   "metadata": {},
   "outputs": [
    {
     "name": "stdout",
     "output_type": "stream",
     "text": [
      "list of keywords is : \n",
      "['False', 'None', 'True', 'and', 'as', 'assert', 'async', 'await', 'break', 'class', 'continue', 'def', 'del', 'elif', 'else', 'except', 'finally', 'for', 'from', 'global', 'if', 'import', 'in', 'is', 'lambda', 'nonlocal', 'not', 'or', 'pass', 'raise', 'return', 'try', 'while', 'with', 'yield']\n",
      "35\n"
     ]
    }
   ],
   "source": [
    "# pre-defined reserved words that have some special meaning\n",
    "# python consists of 35 kaywords and changes according to time\n",
    "import keyword\n",
    "print(\"list of keywords is : \")\n",
    "print(keyword.kwlist)\n",
    "print(len(keyword.kwlist))"
   ]
  },
  {
   "cell_type": "code",
   "execution_count": 39,
   "id": "7078c5d7",
   "metadata": {},
   "outputs": [],
   "source": [
    "# False #it is a boolean value and result of comparision operator(it is same as \"0\")\n",
    "# None #used to define a null value or no value at all(it has its own datatype)it can be assigned to any variable\n",
    "# True #it is a boolean value and result of coparision operator(it is same as output \"1\")\n",
    "# and #it is a logical operator and used to combine conditional statments\n",
    "# # (if both statments are true it return true else return False)\n",
    "# as #when we want to import a module and give it different name.\n",
    "# assert #used in debugging,programmers check the internl states or the assumptions are true.\n",
    "# async #helps a programmer to write concurrent peices of code in python,define function and can execute asynchronously.\n",
    "# await #enables the programer to wait for the duration which programmer mentioned in the statment\n",
    "# break #the break statment will terminate the current loop and start execution from next statment(used in while and for loop)\n",
    "# class #it is group of attributes and methods which is used to collect objects such as functions(defining a class in a module)\n",
    "# continue #used inside for or while loops to end a current iteration and continue to next iteration\n",
    "# def # define a user defined function\n",
    "# del #used to delete any reference of the object\n",
    "# elif #incase,of if not satisfied but the elif condition is satisfied,code-block succeeding it will execute.\n",
    "# else # helps in decision making,incase the prior if and elif statments are not satisfied,the flow control passes to else\n",
    "# except #the except keywords allow us to handle an exception that we might encounter in the try block\n",
    "# finally #executed after try and except blocks.makesures code is executed even if we have unhandled exception,closing a file\n",
    "# for #used to create a for loop (used in tuples,list,etc....)\n",
    "# from # if we want to import specific function from a module use from function\n",
    "# global # programmers can access the variable any where in the program \n",
    "# if #if want to execute a block of code only the condition is true,use if statment if the condition returns a false value\n",
    "# import #it helps us to improve various modules in the namespace we are working on\n",
    "# in #it checks if a sequence (string,range,list) contains a particular value.it also serves as sequence iteration in a for loop\n",
    "# is #test the two operands are reffering to the same object.(returns true if both referring to same object)(else return false)\n",
    "# lambda #create a function without name,function willnot contain return statment.\n",
    "# nonlocal #similar to globally keyword,used to denote that a variable within a nested function is not a local variable\n",
    "# not #its one of the three logical operators (if true returns false)(if false return true)\n",
    "# or #it will return a true value even if one of the operand is true.\n",
    "# pass #nothing will happen but,it can be used when we have a function that is present but not implemented.\n",
    "# raise #used to raise a exception.we have the oppurtunity to decide the error type\n",
    "# return #if we want to exit a function and return a value along with it\n",
    "# try #try along with actch used to catch exceptions in python program\n",
    "# while #used to run loops in python (the moment the condition is false,thwe loop will break)\n",
    "# with #allows programmer to wrap up the execution of code block(used mostly in file handling)\n",
    "# yield #whenever the function is called again,the execution of the fuction starts from previous yeild statment"
   ]
  },
  {
   "cell_type": "code",
   "execution_count": 40,
   "id": "67bc604d",
   "metadata": {},
   "outputs": [],
   "source": [
    "# expression\n",
    "# 1.combination of values/data,variables and operators,expressions are evaluated to a value.\n",
    "# 2.we can assign,expressions to a variable or directly print it.\n",
    "# example:-(a*2+10)-->expression"
   ]
  },
  {
   "cell_type": "code",
   "execution_count": 41,
   "id": "2ee04922",
   "metadata": {},
   "outputs": [],
   "source": [
    "# statment\n",
    "# 1.instructions written in the line of code is called statment.\n",
    "# result of expression is statment\n",
    "# example:-(a*2+10)--->expression\n",
    "#      (result = (a*2+10))--->statment"
   ]
  },
  {
   "cell_type": "code",
   "execution_count": 42,
   "id": "0e02c905",
   "metadata": {},
   "outputs": [],
   "source": [
    "# block and indentation\n",
    "# 1.block combination of statments\n",
    "# 2.we use indentation to write blocks in python \n",
    "# 3.indentation is spaces/tabs used for writing blocks\n",
    "# 4.'4' spaces are required for standard indentation in python\n",
    "# example:\n",
    "#     a=(10+10)\n",
    "#     b=(18+25)\n",
    "#     c=(20+30) all set is called \"blocks\"\n",
    "# blocks should have same level for statments"
   ]
  },
  {
   "cell_type": "markdown",
   "id": "1248e067",
   "metadata": {
    "jp-MarkdownHeadingCollapsed": true
   },
   "source": [
    "# Data Types in python:-\n",
    "# fundamental data types\n",
    "# integer,float,comlex--->numbers\n",
    "# string,boolean,special--->sequence"
   ]
  },
  {
   "cell_type": "markdown",
   "id": "fb82f6dc",
   "metadata": {},
   "source": [
    "# derived data types\n",
    "# list,tuple,Range,byte & arrays,set,frozen set,dictionary"
   ]
  },
  {
   "cell_type": "markdown",
   "id": "a8e81872",
   "metadata": {},
   "source": [
    "# -------------"
   ]
  },
  {
   "cell_type": "markdown",
   "id": "88b6aca1",
   "metadata": {},
   "source": [
    "\n"
   ]
  },
  {
   "cell_type": "markdown",
   "id": "cd74ab38",
   "metadata": {},
   "source": [
    "# integer data type--> example"
   ]
  },
  {
   "cell_type": "code",
   "execution_count": 32,
   "id": "5eaf72b6-d8da-41f3-8d6a-7c31ef837bde",
   "metadata": {},
   "outputs": [
    {
     "name": "stdout",
     "output_type": "stream",
     "text": [
      "2646096119984\n",
      "<class 'int'>\n"
     ]
    }
   ],
   "source": [
    "num1 = 1000\n",
    "print(id(num1))\n",
    "print(type(num1))"
   ]
  },
  {
   "cell_type": "markdown",
   "id": "b67ce258-eaf1-4cb0-9f68-c97acdf26dd5",
   "metadata": {},
   "source": [
    "# float data type--> example"
   ]
  },
  {
   "cell_type": "code",
   "execution_count": 33,
   "id": "c306f5de",
   "metadata": {},
   "outputs": [
    {
     "name": "stdout",
     "output_type": "stream",
     "text": [
      "2646078058512\n",
      "<class 'float'>\n"
     ]
    }
   ],
   "source": [
    "num2 = 10.5\n",
    "print(id(num2))\n",
    "print(type(num2))"
   ]
  },
  {
   "cell_type": "markdown",
   "id": "b138243c-b913-4123-b992-9da5175f58d8",
   "metadata": {},
   "source": [
    "# complex data type--> example"
   ]
  },
  {
   "cell_type": "code",
   "execution_count": 34,
   "id": "e9d6ce1a",
   "metadata": {},
   "outputs": [
    {
     "name": "stdout",
     "output_type": "stream",
     "text": [
      "2646096120144\n",
      "<class 'complex'>\n"
     ]
    }
   ],
   "source": [
    "c1 = 4+3j\n",
    "print(id(c1))\n",
    "print(type(c1))"
   ]
  },
  {
   "cell_type": "markdown",
   "id": "88cd23d5-7510-4d98-8dac-69d5c397ca0c",
   "metadata": {},
   "source": [
    "# string data type--> example"
   ]
  },
  {
   "cell_type": "code",
   "execution_count": 35,
   "id": "6240dbee",
   "metadata": {},
   "outputs": [
    {
     "name": "stdout",
     "output_type": "stream",
     "text": [
      "2646096324656\n",
      "<class 'str'>\n"
     ]
    }
   ],
   "source": [
    "s1 = 'jhon'\n",
    "print(id(s1))\n",
    "print(type(s1))"
   ]
  },
  {
   "cell_type": "markdown",
   "id": "8fe1d36b-163b-4e1d-a96f-35f074981ef2",
   "metadata": {},
   "source": [
    "# boolean data type--> example"
   ]
  },
  {
   "cell_type": "code",
   "execution_count": 36,
   "id": "dc192e46",
   "metadata": {},
   "outputs": [
    {
     "name": "stdout",
     "output_type": "stream",
     "text": [
      "140721245932096\n",
      "<class 'bool'>\n"
     ]
    }
   ],
   "source": [
    "a1 = (bool(30))\n",
    "print(id(a1))\n",
    "print(type(a1))"
   ]
  },
  {
   "cell_type": "markdown",
   "id": "f01164c9-9a8e-43c0-953f-3a1e3c4669ef",
   "metadata": {},
   "source": [
    "# special data type--> example"
   ]
  },
  {
   "cell_type": "code",
   "execution_count": 37,
   "id": "c9bcfe79",
   "metadata": {},
   "outputs": [
    {
     "name": "stdout",
     "output_type": "stream",
     "text": [
      "140721246014224\n",
      "<class 'NoneType'>\n"
     ]
    }
   ],
   "source": [
    "value = None\n",
    "print(id(value))\n",
    "print(type(value))\n"
   ]
  },
  {
   "cell_type": "markdown",
   "id": "486e7d03-bdd7-45a2-915d-fb50dc581593",
   "metadata": {},
   "source": [
    "# indexing"
   ]
  },
  {
   "cell_type": "code",
   "execution_count": 48,
   "id": "8bc13785",
   "metadata": {},
   "outputs": [
    {
     "data": {
      "text/plain": [
       "11"
      ]
     },
     "execution_count": 48,
     "metadata": {},
     "output_type": "execute_result"
    }
   ],
   "source": [
    "# positioning of the chartacters of a string index starts from '0'\n",
    "# index start from (0 to (n-1)) (from left to right)\n",
    "# where 'n' is length of characters of string (or) total total no.of characters of string.\n",
    "# indexing done using [].\n",
    "# example\n",
    "s1 = \"Hello World\"\n",
    "len(s1) # space is also included"
   ]
  },
  {
   "cell_type": "markdown",
   "id": "c9f083b3-249c-4435-9465-c63a3560427a",
   "metadata": {},
   "source": [
    "# slicing"
   ]
  },
  {
   "cell_type": "code",
   "execution_count": 1,
   "id": "2ec70c82",
   "metadata": {},
   "outputs": [
    {
     "data": {
      "text/plain": [
       "'el'"
      ]
     },
     "execution_count": 1,
     "metadata": {},
     "output_type": "execute_result"
    }
   ],
   "source": [
    "# fetching a part of string/sub-string is called slicing\n",
    "# string[start:stop:step]\n",
    "# 1.start-starting the index from where we want to slice the string,when start is not given take(default=0)\n",
    "# 2.stop-ending the index where the slicing of the string ends(stop will be excluded),(the total can be taken as default or infinite value)\n",
    "# if total length of the string equals to stop length,last letter would get excluded\n",
    "# 3.step-increment/decrement in which the slicing be performed.(take default=1)\n",
    "s1 = \"Hello World\"\n",
    "s1[1:5:2]\n",
    "# 1 is start(starts from e,because H refers to 0)\n",
    "# 5 is stop(o will be excluded)\n",
    "# 2 is the step(e will be displayed,first l will be not displayed it jumps to the second l and finnaly \"el\" displays)"
   ]
  },
  {
   "cell_type": "code",
   "execution_count": 2,
   "id": "817146c7",
   "metadata": {},
   "outputs": [
    {
     "data": {
      "text/plain": [
       "' Worl'"
      ]
     },
     "execution_count": 2,
     "metadata": {},
     "output_type": "execute_result"
    }
   ],
   "source": [
    "s1[5:10:1]"
   ]
  },
  {
   "cell_type": "markdown",
   "id": "4ca2a23a-1937-49b6-afcb-dea04ac83797",
   "metadata": {},
   "source": [
    "# negative slicing/indexing"
   ]
  },
  {
   "cell_type": "code",
   "execution_count": 3,
   "id": "a9ea95b6",
   "metadata": {},
   "outputs": [
    {
     "data": {
      "text/plain": [
       "'o Wor'"
      ]
     },
     "execution_count": 3,
     "metadata": {},
     "output_type": "execute_result"
    }
   ],
   "source": [
    "s1[-7:-2:1]          # +ve   0 1 2 3 4 5 6 7 8 9 10\n",
    "                     #  s1   H e l l o   W o r l d\n",
    "                     # -ve 11 10 9 8 7 6 5 4 3 2 1 "
   ]
  },
  {
   "cell_type": "code",
   "execution_count": null,
   "id": "1ea83405",
   "metadata": {},
   "outputs": [],
   "source": [
    "# note\n",
    "# if step is +ve,start=0(by default)\n",
    "# if step is -ve,start=-1(by default)\n",
    "# if step is +ve,stop=length of string(by default)\n",
    "# if step is -ve,stop=0,included(by default)"
   ]
  },
  {
   "cell_type": "code",
   "execution_count": 2,
   "id": "fbe4351b-856d-4f41-9635-c164a85c3240",
   "metadata": {},
   "outputs": [
    {
     "name": "stdout",
     "output_type": "stream",
     "text": [
      "Hello World bye\n"
     ]
    }
   ],
   "source": [
    "# concatination of strings\n",
    "# joining strings together\n",
    "s1 = \"Hello World\"\n",
    "s2 = \" bye\"\n",
    "print(s1+s2) #float and string acnnot be concatinated."
   ]
  },
  {
   "cell_type": "code",
   "execution_count": 14,
   "id": "8743adb4-954a-4df5-a76a-04ae321092b7",
   "metadata": {},
   "outputs": [
    {
     "name": "stdout",
     "output_type": "stream",
     "text": [
      "12\n"
     ]
    }
   ],
   "source": [
    "# Type casting\n",
    "# converting or changing the value from one data type to another.\n",
    "num1 = 12.6\n",
    "num2 = int(num1)\n",
    "print(num2) #converting float to integer."
   ]
  },
  {
   "cell_type": "markdown",
   "id": "1801c496-8f9a-4d60-a3ee-afb07edfe74e",
   "metadata": {},
   "source": [
    "# LIST"
   ]
  },
  {
   "cell_type": "code",
   "execution_count": null,
   "id": "c5f5b045",
   "metadata": {},
   "outputs": [],
   "source": [
    "#  a list is a versatile and mutable collection of elements. Here are some key points about lists:\n",
    "\n",
    "# Mutable: Lists are mutable, which means you can modify the elements of a list after it has been created. You can add, remove, or change elements in a list.\n",
    "\n",
    "# Ordered: Lists maintain the order of elements as they are inserted. This means that the elements in a list are indexed and can be accessed by their position.\n",
    "\n",
    "# Heterogeneous Elements: Lists can contain elements of different data types, such as integers, floats, strings, and even other lists or objects.\n",
    "\n",
    "# Duplicate Elements: Lists can have duplicate elements. Unlike sets, which only store unique elements, lists can contain multiple occurrences of the same value.\n",
    "\n",
    "# Syntax: Lists are defined using square brackets [], and elements are separated by commas. For example:"
   ]
  },
  {
   "cell_type": "markdown",
   "id": "5d28474c-6bc6-49fb-8635-cf2c817c0793",
   "metadata": {},
   "source": [
    "# examples"
   ]
  },
  {
   "cell_type": "code",
   "execution_count": 15,
   "id": "d539a8e9",
   "metadata": {},
   "outputs": [],
   "source": [
    "my_list = [1, 2, 'hello', True]\n",
    "my_lists = [3, 4, 'hi', False]"
   ]
  },
  {
   "cell_type": "code",
   "execution_count": null,
   "id": "9bcecc34",
   "metadata": {},
   "outputs": [],
   "source": [
    "# Accessing Elements: You can access elements in a list using indexing. Indexing starts from 0 for the first element, -1 for the last element, and so on. For example:"
   ]
  },
  {
   "cell_type": "code",
   "execution_count": 2,
   "id": "3e468bfb",
   "metadata": {},
   "outputs": [
    {
     "name": "stdout",
     "output_type": "stream",
     "text": [
      "10\n",
      "50\n"
     ]
    }
   ],
   "source": [
    "my_list = [10, 20, 30, 40, 50]\n",
    "print(my_list[0])  # Output: 10\n",
    "print(my_list[-1])  # Output: 50"
   ]
  },
  {
   "cell_type": "code",
   "execution_count": 3,
   "id": "aec25c40",
   "metadata": {},
   "outputs": [
    {
     "name": "stdout",
     "output_type": "stream",
     "text": [
      "[20, 30, 40]\n"
     ]
    }
   ],
   "source": [
    "# Slicing: You can also slice lists to extract a portion of the list. Slicing is done using the colon : operator. For example:\n",
    "my_list = [10, 20, 30, 40, 50]\n",
    "print(my_list[1:4])  # Output: [20, 30, 40]\n"
   ]
  },
  {
   "cell_type": "code",
   "execution_count": null,
   "id": "faf4ae71",
   "metadata": {},
   "outputs": [],
   "source": [
    "# Mutating Lists: Lists support various methods for adding, removing, and modifying elements. Some common methods include \n",
    "# append()\n",
    "my_list.append(6)\n",
    "print(my_list)\n",
    "# insert()\n",
    "\n",
    "# remove()\n",
    "\n",
    "# pop()\n",
    "\n",
    "# extend()\n",
    "\n",
    "# clear()\n",
    "\n",
    "\n",
    "# Here's an example of working with lists in Python:"
   ]
  },
  {
   "cell_type": "code",
   "execution_count": 16,
   "id": "af20b86f-57e0-4ed4-8eff-ccd9048f1253",
   "metadata": {},
   "outputs": [
    {
     "name": "stdout",
     "output_type": "stream",
     "text": [
      "[1, 2, 'hello', True, 3, 4, 'hi', False]\n"
     ]
    }
   ],
   "source": [
    "# concatination of lists\n",
    "print(my_list + my_lists)"
   ]
  },
  {
   "cell_type": "code",
   "execution_count": 4,
   "id": "d2fc0686",
   "metadata": {},
   "outputs": [
    {
     "name": "stdout",
     "output_type": "stream",
     "text": [
      "1\n",
      "5\n",
      "[2, 3, 4]\n",
      "[1, 2, 'hello', 4, 5]\n",
      "[1, 2, 'hello', 4, 5, 6]\n",
      "[1, 2, 4, 5, 6]\n"
     ]
    }
   ],
   "source": [
    "# Creating a list\n",
    "my_list = [1, 2, 3, 4, 5]\n",
    "\n",
    "# Accessing elements\n",
    "print(my_list[0])  # Output: 1\n",
    "print(my_list[-1])  # Output: 5\n",
    "\n",
    "# Slicing\n",
    "print(my_list[1:4])  # Output: [2, 3, 4]\n",
    "\n",
    "# Modifying elements\n",
    "my_list[2] = 'hello'\n",
    "print(my_list)  # Output: [1, 2, 'hello', 4, 5]\n",
    "\n",
    "# Adding elements\n",
    "my_list.append(6)\n",
    "print(my_list)  # Output: [1, 2, 'hello', 4, 5, 6]\n",
    "\n",
    "# Removing elements\n",
    "my_list.remove('hello')\n",
    "print(my_list)  # Output: [1, 2, 4, 5, 6]\n"
   ]
  },
  {
   "cell_type": "markdown",
   "id": "fc089f5c-b0ec-4177-b3b6-edb4f430beef",
   "metadata": {},
   "source": [
    "# TUPLE"
   ]
  },
  {
   "cell_type": "code",
   "execution_count": 5,
   "id": "1a2496d7",
   "metadata": {},
   "outputs": [],
   "source": [
    "# a tuple is an ordered, immutable collection of elements. Here are the key characteristics and features of tuples:\n",
    "\n",
    "# Immutable: Tuples are immutable, which means once a tuple is created, its elements cannot be modified, added, or removed. This immutability provides data integrity and makes tuples suitable for storing constant data.\n",
    "\n",
    "# Ordered: Like lists, tuples maintain the order of elements as they are inserted. This means that the elements in a tuple are indexed and can be accessed by their position.\n",
    "\n",
    "# Heterogeneous Elements: Tuples can contain elements of different data types, similar to lists. You can have integers, floats, strings, tuples, or other objects as elements of a tuple.\n",
    "\n",
    "# Duplicate Elements: Tuples can have duplicate elements. Just like lists, tuples allow multiple occurrences of the same value.\n",
    "\n",
    "# Syntax: Tuples are defined using parentheses () or without any brackets by separating elements with commas. For example:\n",
    "my_tuple = (1, 2, 'hello', True)\n",
    "another_tuple = 1, 2, 'hello', True  # This is also a valid tuple"
   ]
  },
  {
   "cell_type": "markdown",
   "id": "ee94d4cc-c4da-4c88-9f96-9653db3756dc",
   "metadata": {},
   "source": [
    "# examples"
   ]
  },
  {
   "cell_type": "code",
   "execution_count": 6,
   "id": "99cf207e",
   "metadata": {},
   "outputs": [
    {
     "name": "stdout",
     "output_type": "stream",
     "text": [
      "10\n",
      "50\n"
     ]
    }
   ],
   "source": [
    "# Accessing Elements: You can access elements in a tuple using indexing. Indexing starts from 0 for the first element, -1 for the last element, and so on. For example:\n",
    "my_tuple = (10, 20, 30, 40, 50)\n",
    "print(my_tuple[0])  # Output: 10\n",
    "print(my_tuple[-1])  # Output: 50"
   ]
  },
  {
   "cell_type": "code",
   "execution_count": 7,
   "id": "28bb5d7b",
   "metadata": {},
   "outputs": [
    {
     "name": "stdout",
     "output_type": "stream",
     "text": [
      "(20, 30, 40)\n"
     ]
    }
   ],
   "source": [
    "# Slicing: Similar to lists, tuples support slicing to extract a portion of the tuple. Slicing is done using the colon : operator. For example:\n",
    "my_tuple = (10, 20, 30, 40, 50)\n",
    "print(my_tuple[1:4])  # Output: (20, 30, 40)"
   ]
  },
  {
   "cell_type": "code",
   "execution_count": 8,
   "id": "6075d25c",
   "metadata": {},
   "outputs": [
    {
     "name": "stdout",
     "output_type": "stream",
     "text": [
      "1\n",
      "2\n",
      "hello\n"
     ]
    }
   ],
   "source": [
    "# Tuple Packing and Unpacking: Tuples support packing multiple values into a single tuple and unpacking values from a tuple into individual variables. For example:\n",
    "# Tuple packing\n",
    "my_tuple = 1, 2, 'hello'\n",
    "\n",
    "# Tuple unpacking\n",
    "a, b, c = my_tuple\n",
    "print(a)  # Output: 1\n",
    "print(b)  # Output: 2\n",
    "print(c)  # Output: 'hello'"
   ]
  },
  {
   "cell_type": "code",
   "execution_count": 10,
   "id": "1105370f",
   "metadata": {},
   "outputs": [
    {
     "name": "stdout",
     "output_type": "stream",
     "text": [
      "1\n",
      "5\n",
      "(2, 3, 4)\n",
      "10\n",
      "20\n",
      "30\n"
     ]
    }
   ],
   "source": [
    "# Use Cases: Tuples are often used to store related, immutable data such as coordinates, configurations, constants, and returning multiple values from functions.\n",
    "\n",
    "# Here's an example of working with tuples in Python:\n",
    "# Creating a tuple\n",
    "my_tuple = (1, 2, 3, 4, 5)\n",
    "\n",
    "# Accessing elements\n",
    "print(my_tuple[0])  # Output: 1\n",
    "print(my_tuple[-1])  # Output: 5\n",
    "\n",
    "# Slicing\n",
    "print(my_tuple[1:4])  # Output: (2, 3, 4)\n",
    "\n",
    "# Tuple packing and unpacking\n",
    "x, y, z = (10, 20, 30)\n",
    "print(x)  # Output: 10\n",
    "print(y)  # Output: 20\n",
    "print(z)  # Output: 30\n"
   ]
  },
  {
   "cell_type": "code",
   "execution_count": 1,
   "id": "a9387ca9-906b-43b7-9d97-02691769c185",
   "metadata": {},
   "outputs": [],
   "source": [
    "# SET"
   ]
  },
  {
   "cell_type": "code",
   "execution_count": 11,
   "id": "71ffd879",
   "metadata": {},
   "outputs": [],
   "source": [
    "# a set is an unordered, mutable collection of unique elements. Here are the key characteristics and features of sets:\n",
    "\n",
    "# Unordered: Sets do not maintain the order of elements as they are inserted. When you iterate over a set or print its contents, the elements may not appear in the same order as they were added.\n",
    "\n",
    "# Mutable: Sets are mutable, which means you can modify the elements of a set after it has been created. You can add or remove elements from a set.\n",
    "\n",
    "# Unique Elements: Sets only store unique elements. If you try to add a duplicate element to a set, it will not be added because sets automatically eliminate duplicates.\n",
    "\n",
    "# Heterogeneous Elements: Sets can contain elements of different data types, such as integers, floats, strings, tuples, or other sets.\n",
    "\n",
    "# No Duplicate Elements: Sets automatically handle duplicate elements by only keeping one copy of each unique element. This property makes sets useful for operations where uniqueness is important.\n",
    "\n",
    "# Syntax: Sets are defined using curly braces {} or the set() constructor by passing an iterable (e.g., list, tuple) containing elements. For example:\n",
    "my_set = {1, 2, 3, 4}\n",
    "another_set = set([1, 2, 3, 4, 1])  # This will create {1, 2, 3, 4} because sets eliminate duplicates"
   ]
  },
  {
   "cell_type": "markdown",
   "id": "c39b3b36-a617-48fb-be4b-01b5d1575f19",
   "metadata": {},
   "source": [
    "# examples"
   ]
  },
  {
   "cell_type": "code",
   "execution_count": 12,
   "id": "e3f50311-52d0-4f42-9d52-17eeef5c72fd",
   "metadata": {},
   "outputs": [
    {
     "name": "stdout",
     "output_type": "stream",
     "text": [
      "{1, 2, 3, 4, 5, 6}\n",
      "{1, 2, 4, 5, 6}\n",
      "{1, 2, 3, 4, 5, 6}\n",
      "{3, 4}\n",
      "{1, 2}\n",
      "False\n"
     ]
    }
   ],
   "source": [
    "# Accessing Elements: Since sets are unordered, they do not support indexing or slicing to access elements. You typically use sets for membership testing, intersection, union, and other set operations rather than direct element access.\n",
    "\n",
    "# Adding and Removing Elements: Sets support methods like add() to add a single element, update() to add multiple elements, remove() to remove a specific element, discard() to remove an element if it exists, and pop() to remove and return an arbitrary element.\n",
    "\n",
    "# Set Operations: Sets support various operations such as union (|), intersection (&), difference (-), symmetric difference (^), subset (<=), superset (>=), etc., which make them useful for mathematical set operations.\n",
    "\n",
    "# Here's an example of working with sets in Python:\n",
    "# Creating a set\n",
    "my_set = {1, 2, 3, 4, 5}\n",
    "\n",
    "# Adding elements\n",
    "my_set.add(6)\n",
    "print(my_set)  # Output: {1, 2, 3, 4, 5, 6}\n",
    "\n",
    "# Removing elements\n",
    "my_set.remove(3)\n",
    "print(my_set)  # Output: {1, 2, 4, 5, 6}\n",
    "\n",
    "# Set operations\n",
    "set1 = {1, 2, 3, 4}\n",
    "set2 = {3, 4, 5, 6}\n",
    "\n",
    "# Union\n",
    "union_set = set1 | set2\n",
    "print(union_set)  # Output: {1, 2, 3, 4, 5, 6}\n",
    "\n",
    "# Intersection\n",
    "intersection_set = set1 & set2\n",
    "print(intersection_set)  # Output: {3, 4}\n",
    "\n",
    "# Difference\n",
    "difference_set = set1 - set2\n",
    "print(difference_set)  # Output: {1, 2}\n",
    "\n",
    "# Subset\n",
    "print(set1 <= set2)  # Output: False\n"
   ]
  },
  {
   "cell_type": "markdown",
   "id": "a858f602-c69c-4fb2-bd3e-4ac7516c8f48",
   "metadata": {},
   "source": [
    "# dictionaries and examples"
   ]
  },
  {
   "cell_type": "code",
   "execution_count": 14,
   "id": "4d0d103a-1c66-4666-b825-5e4aee0d7783",
   "metadata": {},
   "outputs": [
    {
     "name": "stdout",
     "output_type": "stream",
     "text": [
      "value1\n",
      "value2\n",
      "key1 updated_value\n",
      "new_key new_value\n",
      "updated_value\n",
      "new_value\n",
      "key1 updated_value\n",
      "new_key new_value\n"
     ]
    }
   ],
   "source": [
    "#  a dictionary is a versatile and mutable collection of key-value pairs. Here are the key characteristics and features of dictionaries:\n",
    "\n",
    "# Key-Value Pairs: A dictionary stores data in the form of key-value pairs. Each key is unique within a dictionary, and it maps to a corresponding value. Keys are typically immutable objects like strings, numbers, or tuples, while values can be of any data type, including lists, sets, other dictionaries, or custom objects.\n",
    "\n",
    "# Mutable: Dictionaries are mutable, which means you can modify, add, or remove key-value pairs after the dictionary has been created.\n",
    "\n",
    "# Unordered: In Python versions prior to 3.7, dictionaries were unordered collections, meaning that the order of key-value pairs was not guaranteed. However, starting from Python 3.7, dictionaries maintain the insertion order of items, making them ordered collections by default.\n",
    "\n",
    "# Syntax: Dictionaries are defined using curly braces {} with colon : separating keys and values. Each key-value pair is separated by commas. For example:\n",
    "my_dict = {'key1': 'value1', 'key2': 'value2', 'key3': 'value3'}\n",
    "# Accessing Elements: You can access the value associated with a key in a dictionary by using the key inside square brackets [] or using the get() method. If the key does not exist, accessing it directly using square brackets will raise a KeyError, while get() will return None or a default value if specified.\n",
    "print(my_dict['key1'])  # Output: 'value1'\n",
    "print(my_dict.get('key2'))  # Output: 'value2'\n",
    "# Adding and Modifying Elements: To add or modify elements in a dictionary, simply assign a value to a new key or an existing key.\n",
    "my_dict['new_key'] = 'new_value'  # Adding a new key-value pair\n",
    "my_dict['key1'] = 'updated_value'  # Modifying an existing value\n",
    "# Removing Elements: You can remove key-value pairs from a dictionary using the del keyword or the pop() method. The pop() method also returns the value of the removed key.\n",
    "del my_dict['key3']  # Removing a key-value pair using del\n",
    "value = my_dict.pop('key2')  # Removing and getting the value using pop\n",
    "# Iterating Over Dictionaries: You can iterate over dictionaries using loops to access keys, values, or key-value pairs (items).\n",
    "for key in my_dict:\n",
    "    print(key, my_dict[key])  # Accessing keys and values\n",
    "\n",
    "for value in my_dict.values():\n",
    "    print(value)  # Accessing values\n",
    "\n",
    "for key, value in my_dict.items():\n",
    "    print(key, value)  # Accessing key-value pairs"
   ]
  },
  {
   "cell_type": "markdown",
   "id": "519b7a30-59b7-4791-91b4-e5f6596da777",
   "metadata": {},
   "source": [
    "# what is memory re-usability concept or interning"
   ]
  },
  {
   "cell_type": "code",
   "execution_count": null,
   "id": "7dac0a4d-a6fa-4f7d-ae6a-e6f803bcf392",
   "metadata": {},
   "outputs": [],
   "source": [
    "# for integers python pre-loads the values between -5 and 256 in the memory\n",
    "# when we assign a new value in this range to a variable python will not create a new object\n",
    "# when we assign multiple times even 1000 times the value refers to same memory address.\n",
    "# this process is called memory reuasability or interning."
   ]
  },
  {
   "cell_type": "markdown",
   "id": "691f87df-0959-44aa-90e6-664df14bad2d",
   "metadata": {},
   "source": [
    "# operators"
   ]
  },
  {
   "cell_type": "code",
   "execution_count": 3,
   "id": "b2a074dc-cccc-4d35-acac-f6b7d50fd73a",
   "metadata": {},
   "outputs": [],
   "source": [
    "# operators perform operations on operands\n",
    "# a*b --> is an operator(multiplication operator\n",
    "# x*2-y --> * and  - are operands x,2,y are operands"
   ]
  },
  {
   "cell_type": "code",
   "execution_count": null,
   "id": "f18a5a69-c3f3-4c0f-a9d7-174ed2b2a49f",
   "metadata": {},
   "outputs": [],
   "source": [
    "# classification of operators\n",
    "# 1. unary operators-operators operates on operands    ex:- ~,not\n",
    "# 2. binary operator-operator that operates on 2 operands ex:- +,and,>,=\n",
    "# 3. ternary operator-operator that operates on 3 operands "
   ]
  },
  {
   "cell_type": "markdown",
   "id": "3c295967-2810-484c-9820-2fb5257680b2",
   "metadata": {},
   "source": [
    "# arthemetic operator"
   ]
  },
  {
   "cell_type": "code",
   "execution_count": 18,
   "id": "50294b0d-86ec-49bb-820f-c7ffbe823662",
   "metadata": {},
   "outputs": [
    {
     "name": "stdout",
     "output_type": "stream",
     "text": [
      "15\n",
      "8\n",
      "12\n",
      "4.0\n",
      "4\n",
      "1\n",
      "8\n"
     ]
    }
   ],
   "source": [
    "# # Addition\n",
    "result_add = 10 + 5  # 10 plus 5\n",
    "print(result_add)  # Output: 15\n",
    "\n",
    "# Subtraction\n",
    "result_sub = 15 - 7  # 15 minus 7\n",
    "print(result_sub)  # Output: 8\n",
    "\n",
    "# Multiplication\n",
    "result_mul = 3 * 4  # 3 times 4\n",
    "print(result_mul)  # Output: 12\n",
    "\n",
    "# Division\n",
    "result_div = 20 / 5  # 20 divided by 5\n",
    "print(result_div)  # Output: 4.0 (always a float)\n",
    "\n",
    "# Floor Division\n",
    "result_floor_div = 21 // 5  # 21 divided by 5, integer part\n",
    "print(result_floor_div)  # Output: 4\n",
    "\n",
    "# Modulus\n",
    "result_mod = 21 % 5  # remainder of 21 divided by 5\n",
    "print(result_mod)  # Output: 1\n",
    "\n",
    "# Exponentiation\n",
    "result_exp = 2 ** 3  # 2 raised to the power of 3\n",
    "print(result_exp)  # Output: 8\n"
   ]
  },
  {
   "cell_type": "markdown",
   "id": "2fa7fad3-5496-4b55-981c-7815923bb1ed",
   "metadata": {},
   "source": [
    "# assignment operator"
   ]
  },
  {
   "cell_type": "code",
   "execution_count": 19,
   "id": "010923f0-4e5c-4192-87a4-baab190777dd",
   "metadata": {},
   "outputs": [
    {
     "name": "stdout",
     "output_type": "stream",
     "text": [
      "Value of x: 5\n",
      "Value of x after addition: 8\n",
      "Value of x after subtraction: 6\n",
      "Value of x after multiplication: 24\n",
      "Value of x after division: 8.0\n",
      "Value of x after modulus operation: 3.0\n",
      "Value of x after floor division: 1.0\n",
      "Value of x after exponentiation: 1.0\n"
     ]
    }
   ],
   "source": [
    "# Assignment (=) Operator\n",
    "x = 5  # Assigns the value 5 to the variable x\n",
    "print(\"Value of x:\", x)  # Output: 5\n",
    "\n",
    "# Addition Assignment (+=) Operator\n",
    "x += 3  # Adds 3 to the value of x and assigns the result back to x\n",
    "print(\"Value of x after addition:\", x)  # Output: 8\n",
    "\n",
    "# Subtraction Assignment (-=) Operator\n",
    "x -= 2  # Subtracts 2 from the value of x and assigns the result back to x\n",
    "print(\"Value of x after subtraction:\", x)  # Output: 6\n",
    "\n",
    "# Multiplication Assignment (*=) Operator\n",
    "x *= 4  # Multiplies the value of x by 4 and assigns the result back to x\n",
    "print(\"Value of x after multiplication:\", x)  # Output: 24\n",
    "\n",
    "# Division Assignment (/=) Operator\n",
    "x /= 3  # Divides the value of x by 3 and assigns the result back to x\n",
    "print(\"Value of x after division:\", x)  # Output: 8.0 (float due to division)\n",
    "\n",
    "# Modulus Assignment (%=) Operator\n",
    "x %= 5  # Computes the modulus of x with 5 and assigns the result back to x\n",
    "print(\"Value of x after modulus operation:\", x)  # Output: 3.0\n",
    "\n",
    "# Floor Division Assignment (//=) Operator\n",
    "x //= 2  # Performs floor division of x by 2 and assigns the result back to x\n",
    "print(\"Value of x after floor division:\", x)  # Output: 1.0\n",
    "\n",
    "# Exponentiation Assignment (**=) Operator\n",
    "x **= 3  # Raises x to the power of 3 and assigns the result back to x\n",
    "print(\"Value of x after exponentiation:\", x)  # Output: 1.0 (unchanged due to x being 1)\n"
   ]
  },
  {
   "cell_type": "markdown",
   "id": "f7b7c6a7-2223-4fb9-884e-6dece1393a94",
   "metadata": {},
   "source": [
    "# comparision/relational operator"
   ]
  },
  {
   "cell_type": "code",
   "execution_count": 20,
   "id": "f6f221c8-5aa5-445e-bf9f-c43791d1962e",
   "metadata": {},
   "outputs": [
    {
     "name": "stdout",
     "output_type": "stream",
     "text": [
      "Is x equal to y? False\n",
      "Is x not equal to y? True\n",
      "Is x greater than y? False\n",
      "Is x less than y? True\n",
      "Is x greater than or equal to y? False\n",
      "Is x less than or equal to y? True\n"
     ]
    }
   ],
   "source": [
    "# Equal to (==) Operator\n",
    "x = 5\n",
    "y = 10\n",
    "result_equal = x == y  # Checks if x is equal to y\n",
    "print(\"Is x equal to y?\", result_equal)  # Output: False\n",
    "\n",
    "# Not equal to (!=) Operator\n",
    "result_not_equal = x != y  # Checks if x is not equal to y\n",
    "print(\"Is x not equal to y?\", result_not_equal)  # Output: True\n",
    "\n",
    "# Greater than (>) Operator\n",
    "result_greater_than = x > y  # Checks if x is greater than y\n",
    "print(\"Is x greater than y?\", result_greater_than)  # Output: False\n",
    "\n",
    "# Less than (<) Operator\n",
    "result_less_than = x < y  # Checks if x is less than y\n",
    "print(\"Is x less than y?\", result_less_than)  # Output: True\n",
    "\n",
    "# Greater than or equal to (>=) Operator\n",
    "result_greater_equal = x >= y  # Checks if x is greater than or equal to y\n",
    "print(\"Is x greater than or equal to y?\", result_greater_equal)  # Output: False\n",
    "\n",
    "# Less than or equal to (<=) Operator\n",
    "result_less_equal = x <= y  # Checks if x is less than or equal to y\n",
    "print(\"Is x less than or equal to y?\", result_less_equal)  # Output: True"
   ]
  },
  {
   "cell_type": "markdown",
   "id": "60335b30-53b6-4e7b-8510-bbee7d765a7f",
   "metadata": {},
   "source": [
    "# logical operator"
   ]
  },
  {
   "cell_type": "code",
   "execution_count": 21,
   "id": "a35384c7-8263-406e-99ca-2c9308702879",
   "metadata": {},
   "outputs": [
    {
     "name": "stdout",
     "output_type": "stream",
     "text": [
      "Is x < y and y < z? True\n",
      "Is x > y or y > z? False\n",
      "Is not (x > y)? True\n"
     ]
    }
   ],
   "source": [
    "# these are operated on True,False values(if comparision between two values give boolean the logical operators are used in between them.\n",
    "# 1.and -->(if first operand is true,output is second operand),(if first operand is false,output is first operand)\n",
    "# 2.or>(if any one operand is true,output is true ),(if both operands are false,output is false),(if first operand is ok,no check 2nd operand)\n",
    "# 3.not -->(if operand is true output is false and vice-versa)\n",
    "# True and True = True\n",
    "# True and False = False\n",
    "# False and True = False\n",
    "# False and False = False\n",
    "\n",
    "# True or True = True\n",
    "# True or False = True\n",
    "# False or True = True\n",
    "# False or False = False\n",
    "\n",
    "# not False = True\n",
    "# not True = False\n",
    "# Logical AND (and) Operator\n",
    "x = 5\n",
    "y = 10\n",
    "z = 15\n",
    "\n",
    "# Checks if x is less than y and y is less than z\n",
    "result_and = (x < y) and (y < z)\n",
    "print(\"Is x < y and y < z?\", result_and)  # Output: True\n",
    "\n",
    "# Logical OR (or) Operator\n",
    "# Checks if x is greater than y or y is greater than z\n",
    "result_or = (x > y) or (y > z)\n",
    "print(\"Is x > y or y > z?\", result_or)  # Output: False\n",
    "\n",
    "# Logical NOT (not) Operator\n",
    "# Checks if not (x is greater than y)\n",
    "result_not = not (x > y)\n",
    "print(\"Is not (x > y)?\", result_not)  # Output: True"
   ]
  },
  {
   "cell_type": "markdown",
   "id": "13945887-ce72-42dd-8ef5-0cd00b78e8ab",
   "metadata": {},
   "source": [
    "# bit-wise operator"
   ]
  },
  {
   "cell_type": "code",
   "execution_count": 13,
   "id": "398be239-3062-42e3-b704-a18611148c68",
   "metadata": {},
   "outputs": [],
   "source": [
    "# operators operates using 0's and 1's\n",
    "# these can be used as binary and integers directly.\n",
    "# when bitwise operator is used within integer,python converts internally.int to binary and operates on bits."
   ]
  },
  {
   "cell_type": "code",
   "execution_count": 24,
   "id": "6b4c36ac-af31-46bc-bebd-b09738fe03f0",
   "metadata": {},
   "outputs": [
    {
     "name": "stdout",
     "output_type": "stream",
     "text": [
      "Bitwise AND of x and y: 1\n",
      "Bitwise OR of x and y: 7\n",
      "Bitwise XOR of x and y: 6\n",
      "Bitwise NOT of x: -6\n",
      "Left Shift of x by 2 bits: 20\n",
      "Right Shift of y by 1 bit: 1\n"
     ]
    }
   ],
   "source": [
    "# Bitwise AND (&) Operator\n",
    "x = 5  # 0101 in binary\n",
    "y = 3  # 0011 in binary\n",
    "\n",
    "result_and = x & y  # Bitwise AND of x and y\n",
    "print(\"Bitwise AND of x and y:\", result_and)  # Output: 1 (0001 in binary)\n",
    "\n",
    "# Bitwise OR (|) Operator\n",
    "result_or = x | y  # Bitwise OR of x and y\n",
    "print(\"Bitwise OR of x and y:\", result_or)  # Output: 7 (0111 in binary)\n",
    "\n",
    "# Bitwise XOR (^) Operator\n",
    "result_xor = x ^ y  # Bitwise XOR of x and y\n",
    "print(\"Bitwise XOR of x and y:\", result_xor)  # Output: 6 (0110 in binary)\n",
    "\n",
    "# Bitwise NOT (~) Operator\n",
    "result_not_x = ~x  # Bitwise NOT of x\n",
    "print(\"Bitwise NOT of x:\", result_not_x)  # Output: -6 (Two's complement representation)\n",
    "\n",
    "# Left Shift (<<) Operator\n",
    "result_left_shift = x << 2  # Left shift x by 2 bits\n",
    "print(\"Left Shift of x by 2 bits:\", result_left_shift)  # Output: 20 (10100 in binary)\n",
    "\n",
    "# Right Shift (>>) Operator\n",
    "result_right_shift = y >> 1  # Right shift y by 1 bit\n",
    "print(\"Right Shift of y by 1 bit:\", result_right_shift)  # Output: 1 (0001 in binary)\n"
   ]
  },
  {
   "cell_type": "markdown",
   "id": "2f5bb4f6-7ac6-4c8d-bcc3-c9fd61cf87bb",
   "metadata": {},
   "source": [
    "# member-ship operator"
   ]
  },
  {
   "cell_type": "code",
   "execution_count": 23,
   "id": "9efad801-9a71-48ff-9d73-f25e4c729e3c",
   "metadata": {},
   "outputs": [
    {
     "name": "stdout",
     "output_type": "stream",
     "text": [
      "Is 'H' in the string? True\n",
      "Is 3 in the list? True\n",
      "Is 25 in the tuple? False\n",
      "Is 'd' not in the dictionary? True\n",
      "Is 200 not in the dictionary values? False\n"
     ]
    }
   ],
   "source": [
    "# used to check the membership of an element item in a collection/iterable object(list/tuple/string)\n",
    "# Membership operator 'in'\n",
    "string_example = \"Hello, World!\"\n",
    "list_example = [1, 2, 3, 4, 5]\n",
    "tuple_example = (10, 20, 30, 40, 50)\n",
    "\n",
    "# Check if a character is present in the string\n",
    "result_in_string = 'H' in string_example\n",
    "print(\"Is 'H' in the string?\", result_in_string)  # Output: True\n",
    "\n",
    "# Check if an element is present in the list\n",
    "result_in_list = 3 in list_example\n",
    "print(\"Is 3 in the list?\", result_in_list)  # Output: True\n",
    "\n",
    "# Check if an element is present in the tuple\n",
    "result_in_tuple = 25 in tuple_example\n",
    "print(\"Is 25 in the tuple?\", result_in_tuple)  # Output: False\n",
    "\n",
    "# Membership operator 'not in'\n",
    "dictionary_example = {'a': 100, 'b': 200, 'c': 300}\n",
    "\n",
    "# Check if a key is not present in the dictionary\n",
    "result_not_in_dict = 'd' not in dictionary_example\n",
    "print(\"Is 'd' not in the dictionary?\", result_not_in_dict)  # Output: True\n",
    "\n",
    "# Check if a value is not present in the dictionary\n",
    "result_not_in_dict_values = 200 not in dictionary_example.values()\n",
    "print(\"Is 200 not in the dictionary values?\", result_not_in_dict_values)  # Output: False\n"
   ]
  },
  {
   "cell_type": "markdown",
   "id": "401f28ff-fed6-42eb-b055-a514d06807e4",
   "metadata": {},
   "source": [
    "# identity operator"
   ]
  },
  {
   "cell_type": "code",
   "execution_count": 22,
   "id": "42ae1f5a-69a7-4a67-892e-c1ced809cf41",
   "metadata": {},
   "outputs": [
    {
     "name": "stdout",
     "output_type": "stream",
     "text": [
      "Are x and y the same object? False\n",
      "Are x and z the same object? True\n",
      "Are a and b not the same object? True\n"
     ]
    }
   ],
   "source": [
    "# compares the memory address of 2 operands\n",
    "# Identity operator 'is'\n",
    "x = [1, 2, 3]\n",
    "y = [1, 2, 3]\n",
    "z = x  # z refers to the same object as x\n",
    "\n",
    "# Check if x and y refer to the same object\n",
    "result_is_same_object = x is y\n",
    "print(\"Are x and y the same object?\", result_is_same_object)  # Output: False\n",
    "\n",
    "# Check if x and z refer to the same object\n",
    "result_is_same_object_z = x is z\n",
    "print(\"Are x and z the same object?\", result_is_same_object_z)  # Output: True\n",
    "\n",
    "# Identity operator 'is not'\n",
    "a = 10\n",
    "b = 20\n",
    "\n",
    "# Check if a and b do not refer to the same object\n",
    "result_is_not_same_object = a is not b\n",
    "print(\"Are a and b not the same object?\", result_is_not_same_object)  # Output: True\n"
   ]
  },
  {
   "cell_type": "code",
   "execution_count": null,
   "id": "c1a8ab43-729d-4cb3-80d2-6391ee917be8",
   "metadata": {},
   "outputs": [],
   "source": [
    "# precedence-if ana expression has more than 1 operation python prioritizes the order of execution of operands.\n",
    "# PEMDAS Paranthesis().Exponentiation**.Multiplication*.Division/.Addition+.Subtaction-\n",
    "()Paranthesis\n",
    "**Exponentiation\n",
    "-,~unary minus,bitwise complement\n",
    "*,/,//,%,Multiplication*,Division/,floor division//,modulous operator%\n",
    "+,-,Addition+,Subtraction-\n",
    "<<,>>,bitwise left shift,bitwise right shift\n",
    "& bitwise and\n",
    "^ bitwise xor\n",
    "| bitwise or\n",
    ">,>=,<,<=,==,!= comparision/relational operator\n",
    "=,%=,/=,//=,-=,+=,*=,**= assignment operator\n",
    "is,is not identity operator\n",
    "in,not in membership operator\n",
    "not logical operator\n",
    "or logical operator\n",
    "and logical operator\n",
    "# except **exponential(right to left) others all are (left to right)_\n",
    "# BODMAS-brackets order division multiplication addition subtraction"
   ]
  }
 ],
 "metadata": {
  "kernelspec": {
   "display_name": "Python 3 (ipykernel)",
   "language": "python",
   "name": "python3"
  },
  "language_info": {
   "codemirror_mode": {
    "name": "ipython",
    "version": 3
   },
   "file_extension": ".py",
   "mimetype": "text/x-python",
   "name": "python",
   "nbconvert_exporter": "python",
   "pygments_lexer": "ipython3",
   "version": "3.11.7"
  }
 },
 "nbformat": 4,
 "nbformat_minor": 5
}
